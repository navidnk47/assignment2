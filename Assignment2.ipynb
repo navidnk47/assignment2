{
 "cells": [
  {
   "cell_type": "code",
   "execution_count": null,
   "id": "37f58ce3-7c50-4808-a6d2-8611e6f0e6aa",
   "metadata": {},
   "outputs": [],
   "source": [
    "Q1)"
   ]
  },
  {
   "cell_type": "code",
   "execution_count": null,
   "id": "430208a6-8bc4-4c4f-b38b-e573ab638d6a",
   "metadata": {},
   "outputs": [],
   "source": [
    " #It is a one  line comment in python \n",
    "y=9 #Assigning the value 9 to variable y"
   ]
  },
  {
   "cell_type": "code",
   "execution_count": 41,
   "id": "e54bb956-d66e-460e-8d1a-a4c53f540060",
   "metadata": {},
   "outputs": [
    {
     "ename": "SyntaxError",
     "evalue": "invalid syntax (1994315779.py, line 1)",
     "output_type": "error",
     "traceback": [
      "\u001b[0;36m  Cell \u001b[0;32mIn[41], line 1\u001b[0;36m\u001b[0m\n\u001b[0;31m    it is the multi-line comment in python\u001b[0m\n\u001b[0m              ^\u001b[0m\n\u001b[0;31mSyntaxError\u001b[0m\u001b[0;31m:\u001b[0m invalid syntax\n"
     ]
    }
   ],
   "source": [
    "it is the multi-line comment in python \n",
    "you can use add details and other things \n",
    "in this multi-line comment\n",
    "y=9 # Assigning the value 9 to variable y"
   ]
  },
  {
   "cell_type": "code",
   "execution_count": null,
   "id": "cefbff3b-98a1-4e49-b7ba-577f1c2c2659",
   "metadata": {},
   "outputs": [],
   "source": []
  },
  {
   "cell_type": "code",
   "execution_count": null,
   "id": "d28d145e-ba7a-49eb-a1d4-458e38878d67",
   "metadata": {},
   "outputs": [],
   "source": [
    "Q2)"
   ]
  },
  {
   "cell_type": "code",
   "execution_count": 42,
   "id": "2e9195bc-b75a-4481-b581-e0ae1aa6160a",
   "metadata": {},
   "outputs": [
    {
     "name": "stdout",
     "output_type": "stream",
     "text": [
      "80\n"
     ]
    }
   ],
   "source": [
    "stud_mks=80\n",
    "print(stud_mks)"
   ]
  },
  {
   "cell_type": "code",
   "execution_count": null,
   "id": "7cb7dae3-d8b9-40d0-825e-22382700fa07",
   "metadata": {},
   "outputs": [],
   "source": []
  },
  {
   "cell_type": "code",
   "execution_count": null,
   "id": "807e5460-6757-4281-b495-4ee866ed9305",
   "metadata": {},
   "outputs": [],
   "source": [
    "Q3)"
   ]
  },
  {
   "cell_type": "code",
   "execution_count": 43,
   "id": "1bcf0874-36a0-4867-9a68-f04200a3cc9e",
   "metadata": {},
   "outputs": [],
   "source": [
    "a = 10\n",
    "b = float(a)"
   ]
  },
  {
   "cell_type": "code",
   "execution_count": 8,
   "id": "57cb3ef2-68a4-4edb-aa80-ca4a5e5770e8",
   "metadata": {},
   "outputs": [
    {
     "data": {
      "text/plain": [
       "int"
      ]
     },
     "execution_count": 8,
     "metadata": {},
     "output_type": "execute_result"
    }
   ],
   "source": [
    "type(a)"
   ]
  },
  {
   "cell_type": "code",
   "execution_count": 9,
   "id": "116586da-4a13-4883-9e34-a2b2ac1c2f78",
   "metadata": {},
   "outputs": [
    {
     "data": {
      "text/plain": [
       "float"
      ]
     },
     "execution_count": 9,
     "metadata": {},
     "output_type": "execute_result"
    }
   ],
   "source": [
    "type(b)"
   ]
  },
  {
   "cell_type": "code",
   "execution_count": null,
   "id": "44f62c98-b6c7-4462-990b-4b7935efeff0",
   "metadata": {},
   "outputs": [],
   "source": []
  },
  {
   "cell_type": "code",
   "execution_count": null,
   "id": "2a8d0ad1-71db-4dea-853c-cc124737d82c",
   "metadata": {},
   "outputs": [],
   "source": [
    "Q6)"
   ]
  },
  {
   "cell_type": "code",
   "execution_count": null,
   "id": "0aa8dacb-0a32-40e9-baf7-08708f6bb40a",
   "metadata": {},
   "outputs": [],
   "source": [
    "complex number in mathamathics he numbers \n",
    "that are expressed in the form of a+ib where, a,b are real numbers and 'i' is an imaginary\n",
    "number called “iota\n",
    "\n",
    "complex number in python are "
   ]
  },
  {
   "cell_type": "code",
   "execution_count": 44,
   "id": "e2e0cf23-ed76-4fb8-95a6-7071814a9956",
   "metadata": {},
   "outputs": [],
   "source": [
    "f=5+6j"
   ]
  },
  {
   "cell_type": "code",
   "execution_count": 11,
   "id": "aae51590-0e9a-4c4f-88ed-73e9eb4dd877",
   "metadata": {},
   "outputs": [
    {
     "data": {
      "text/plain": [
       "complex"
      ]
     },
     "execution_count": 11,
     "metadata": {},
     "output_type": "execute_result"
    }
   ],
   "source": [
    "type(f)"
   ]
  },
  {
   "cell_type": "code",
   "execution_count": null,
   "id": "c3747dda-efce-4442-b842-43fde380c1ad",
   "metadata": {},
   "outputs": [],
   "source": []
  },
  {
   "cell_type": "code",
   "execution_count": null,
   "id": "41603773-b940-4b38-892d-f02237362510",
   "metadata": {},
   "outputs": [],
   "source": [
    "Q7)"
   ]
  },
  {
   "cell_type": "code",
   "execution_count": 45,
   "id": "58c06387-2745-4575-a8e9-d887278ee49a",
   "metadata": {},
   "outputs": [],
   "source": [
    "name= \"navid\""
   ]
  },
  {
   "cell_type": "code",
   "execution_count": 13,
   "id": "b3381eb0-c829-4eb1-a84c-380ab25cb000",
   "metadata": {},
   "outputs": [],
   "source": [
    "age= 25"
   ]
  },
  {
   "cell_type": "code",
   "execution_count": 14,
   "id": "c9d6fdc7-9e9e-44e5-9b68-c926b4743fd9",
   "metadata": {},
   "outputs": [
    {
     "data": {
      "text/plain": [
       "'navid'"
      ]
     },
     "execution_count": 14,
     "metadata": {},
     "output_type": "execute_result"
    }
   ],
   "source": [
    "name"
   ]
  },
  {
   "cell_type": "code",
   "execution_count": 15,
   "id": "d2cb18f8-cc7d-4167-bce3-39a2ec73ed41",
   "metadata": {},
   "outputs": [
    {
     "data": {
      "text/plain": [
       "25"
      ]
     },
     "execution_count": 15,
     "metadata": {},
     "output_type": "execute_result"
    }
   ],
   "source": [
    "age"
   ]
  },
  {
   "cell_type": "code",
   "execution_count": null,
   "id": "c4b6befc-2e01-4300-a550-7ef331dd6384",
   "metadata": {},
   "outputs": [],
   "source": []
  },
  {
   "cell_type": "code",
   "execution_count": null,
   "id": "fb7627a8-8e7c-47f5-8a4a-66ca40ffa569",
   "metadata": {},
   "outputs": [],
   "source": [
    "Q8)"
   ]
  },
  {
   "cell_type": "code",
   "execution_count": 46,
   "id": "d507599c-705f-4232-8d2b-c663c1ebe15c",
   "metadata": {},
   "outputs": [],
   "source": [
    "price= 9.99"
   ]
  },
  {
   "cell_type": "code",
   "execution_count": 47,
   "id": "54a11535-94eb-48d1-9349-f557fc338b09",
   "metadata": {},
   "outputs": [
    {
     "data": {
      "text/plain": [
       "float"
      ]
     },
     "execution_count": 47,
     "metadata": {},
     "output_type": "execute_result"
    }
   ],
   "source": [
    "type(price)"
   ]
  },
  {
   "cell_type": "code",
   "execution_count": null,
   "id": "d2746a6a-b735-497e-802a-ddaa7624c7c9",
   "metadata": {},
   "outputs": [],
   "source": []
  },
  {
   "cell_type": "code",
   "execution_count": null,
   "id": "82ef910c-560c-4946-85c6-d0b008b5743a",
   "metadata": {},
   "outputs": [],
   "source": [
    "Q9)"
   ]
  },
  {
   "cell_type": "code",
   "execution_count": 48,
   "id": "a7dc0f60-3675-4d28-a7ef-c10f17448e7c",
   "metadata": {},
   "outputs": [
    {
     "name": "stdout",
     "output_type": "stream",
     "text": [
      "Pathan Navid Khan\n"
     ]
    }
   ],
   "source": [
    "name=\"Pathan Navid Khan\"\n",
    "print(name)"
   ]
  },
  {
   "cell_type": "code",
   "execution_count": 20,
   "id": "61c392ce-149e-4035-ae93-b3a7ac579128",
   "metadata": {},
   "outputs": [
    {
     "data": {
      "text/plain": [
       "str"
      ]
     },
     "execution_count": 20,
     "metadata": {},
     "output_type": "execute_result"
    }
   ],
   "source": [
    "type(name)"
   ]
  },
  {
   "cell_type": "code",
   "execution_count": null,
   "id": "13be4dc5-ee71-4d75-af3f-22b1ad767092",
   "metadata": {},
   "outputs": [],
   "source": []
  },
  {
   "cell_type": "code",
   "execution_count": null,
   "id": "89fc68a9-25a1-441a-8cf4-6dbe73babc29",
   "metadata": {},
   "outputs": [],
   "source": [
    "Q10)"
   ]
  },
  {
   "cell_type": "code",
   "execution_count": 1,
   "id": "d97dccbc-e6ae-4978-9c5f-2f6896a501ea",
   "metadata": {},
   "outputs": [
    {
     "name": "stdout",
     "output_type": "stream",
     "text": [
      "world\n"
     ]
    }
   ],
   "source": [
    "string =\"Hello world \"\n",
    "substring = string [6:11]\n",
    "print(substring )"
   ]
  },
  {
   "cell_type": "code",
   "execution_count": null,
   "id": "c7140d09-af09-4113-8e3d-3714400b5c3c",
   "metadata": {},
   "outputs": [],
   "source": []
  },
  {
   "cell_type": "code",
   "execution_count": null,
   "id": "cd8d372e-d0e0-4f18-82e8-764cb170ac30",
   "metadata": {},
   "outputs": [],
   "source": [
    "Q11)"
   ]
  },
  {
   "cell_type": "markdown",
   "id": "c3cacd38-c1c4-405a-bd91-0e305c6320cf",
   "metadata": {},
   "source": [
    "student = True \n",
    "# or \n",
    "student = False"
   ]
  },
  {
   "cell_type": "code",
   "execution_count": null,
   "id": "15d64e48-fa56-49b7-a1b8-e46b6bad56c7",
   "metadata": {},
   "outputs": [
    {
     "data": {
      "text/plain": [
       "False"
      ]
     },
     "execution_count": 31,
     "metadata": {},
     "output_type": "execute_result"
    }
   ],
   "source": []
  }
 ],
 "metadata": {
  "kernelspec": {
   "display_name": "Python 3 (ipykernel)",
   "language": "python",
   "name": "python3"
  },
  "language_info": {
   "codemirror_mode": {
    "name": "ipython",
    "version": 3
   },
   "file_extension": ".py",
   "mimetype": "text/x-python",
   "name": "python",
   "nbconvert_exporter": "python",
   "pygments_lexer": "ipython3",
   "version": "3.10.8"
  }
 },
 "nbformat": 4,
 "nbformat_minor": 5
}
